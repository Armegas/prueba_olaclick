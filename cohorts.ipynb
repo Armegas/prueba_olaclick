{
 "cells": [
  {
   "attachments": {},
   "cell_type": "markdown",
   "metadata": {},
   "source": [
    "# Utilizamos la Libreria Pandas"
   ]
  },
  {
   "cell_type": "code",
   "execution_count": 234,
   "metadata": {},
   "outputs": [],
   "source": [
    "import pandas as pd\n",
    "import seaborn as sns\n",
    "import matplotlib.pyplot as plt"
   ]
  },
  {
   "attachments": {},
   "cell_type": "markdown",
   "metadata": {},
   "source": [
    "# Ingestamos el Archivo CSV correspondiente y normalizamos datos para generar la consulta esperada"
   ]
  },
  {
   "cell_type": "code",
   "execution_count": 235,
   "metadata": {},
   "outputs": [
    {
     "data": {
      "text/html": [
       "<div>\n",
       "<style scoped>\n",
       "    .dataframe tbody tr th:only-of-type {\n",
       "        vertical-align: middle;\n",
       "    }\n",
       "\n",
       "    .dataframe tbody tr th {\n",
       "        vertical-align: top;\n",
       "    }\n",
       "\n",
       "    .dataframe thead th {\n",
       "        text-align: right;\n",
       "    }\n",
       "</style>\n",
       "<table border=\"1\" class=\"dataframe\">\n",
       "  <thead>\n",
       "    <tr style=\"text-align: right;\">\n",
       "      <th></th>\n",
       "      <th>Reference</th>\n",
       "      <th>Invoice</th>\n",
       "      <th>External Reference</th>\n",
       "      <th>Create Date</th>\n",
       "      <th>Validated Date</th>\n",
       "      <th>Amount Usd</th>\n",
       "      <th>Fee amount USD</th>\n",
       "      <th>Local Amount</th>\n",
       "      <th>Local Fee Amount</th>\n",
       "      <th>Local VAT</th>\n",
       "      <th>...</th>\n",
       "      <th>Country</th>\n",
       "      <th>User account</th>\n",
       "      <th>EXTRAE</th>\n",
       "      <th>Payment Method</th>\n",
       "      <th>Payment Method Name</th>\n",
       "      <th>Payment Method Type</th>\n",
       "      <th>Status</th>\n",
       "      <th>Unnamed: 20</th>\n",
       "      <th>Unnamed: 21</th>\n",
       "      <th>Unnamed: 22</th>\n",
       "    </tr>\n",
       "  </thead>\n",
       "  <tbody>\n",
       "    <tr>\n",
       "      <th>0</th>\n",
       "      <td>T-57873-43a5b0ae-55c0-4f38-b5f6-59d7003c2e5a</td>\n",
       "      <td>PE-P1-1-653955</td>\n",
       "      <td>DLPA0288000004184813</td>\n",
       "      <td>2022-11-15 00:48:16</td>\n",
       "      <td>2022-11-15 00:48:16</td>\n",
       "      <td>10.15</td>\n",
       "      <td>0.74</td>\n",
       "      <td>41.43</td>\n",
       "      <td>3.012</td>\n",
       "      <td>NaN</td>\n",
       "      <td>...</td>\n",
       "      <td>PE</td>\n",
       "      <td>4370ff50-6274-11eb-8b6f-f982d369514b</td>\n",
       "      <td>1-1-</td>\n",
       "      <td>MC</td>\n",
       "      <td>Mastercard</td>\n",
       "      <td>CREDIT_CARD</td>\n",
       "      <td>PAID</td>\n",
       "      <td>NaN</td>\n",
       "      <td>NaN</td>\n",
       "      <td>NaN</td>\n",
       "    </tr>\n",
       "    <tr>\n",
       "      <th>1</th>\n",
       "      <td>T-57873-92026b78-814e-453f-972d-a20672ab5ff1</td>\n",
       "      <td>PE-P1-1-965257</td>\n",
       "      <td>NaN</td>\n",
       "      <td>2022-11-15 01:23:56</td>\n",
       "      <td>NaN</td>\n",
       "      <td>10.15</td>\n",
       "      <td>0.74</td>\n",
       "      <td>41.43</td>\n",
       "      <td>3.012</td>\n",
       "      <td>NaN</td>\n",
       "      <td>...</td>\n",
       "      <td>PE</td>\n",
       "      <td>ba9c31f0-64ea-11eb-be1e-531b2e90c600</td>\n",
       "      <td>1-1-</td>\n",
       "      <td>MC</td>\n",
       "      <td>Mastercard</td>\n",
       "      <td>CREDIT_CARD</td>\n",
       "      <td>REJECTED</td>\n",
       "      <td>NaN</td>\n",
       "      <td>NaN</td>\n",
       "      <td>NaN</td>\n",
       "    </tr>\n",
       "    <tr>\n",
       "      <th>2</th>\n",
       "      <td>D-57873-c263d0d4-17f9-4501-ad69-8ed94aa4521a</td>\n",
       "      <td>BR-P1-1-931470</td>\n",
       "      <td>QRS1TXZS9YQTDKX5NS4WIHJQT6CZCVPOHNH</td>\n",
       "      <td>2022-11-15 01:34:29</td>\n",
       "      <td>2022-11-15 01:36:58</td>\n",
       "      <td>8.82</td>\n",
       "      <td>0.34</td>\n",
       "      <td>50.00</td>\n",
       "      <td>1.950</td>\n",
       "      <td>NaN</td>\n",
       "      <td>...</td>\n",
       "      <td>BR</td>\n",
       "      <td>109e95e0-9d66-11eb-9de4-5b801bf08e66</td>\n",
       "      <td>1-1-</td>\n",
       "      <td>PQ</td>\n",
       "      <td>PIX QR</td>\n",
       "      <td>CASH</td>\n",
       "      <td>PAID</td>\n",
       "      <td>NaN</td>\n",
       "      <td>NaN</td>\n",
       "      <td>NaN</td>\n",
       "    </tr>\n",
       "    <tr>\n",
       "      <th>3</th>\n",
       "      <td>T-57873-961c6cea-5e16-41b1-b2a8-10881b76a399</td>\n",
       "      <td>PE-P1-1-488267</td>\n",
       "      <td>DLPA0288000005194403</td>\n",
       "      <td>2022-11-15 01:44:06</td>\n",
       "      <td>2022-11-15 01:44:06</td>\n",
       "      <td>10.15</td>\n",
       "      <td>0.74</td>\n",
       "      <td>41.43</td>\n",
       "      <td>3.012</td>\n",
       "      <td>NaN</td>\n",
       "      <td>...</td>\n",
       "      <td>PE</td>\n",
       "      <td>ba9c31f0-64ea-11eb-be1e-531b2e90c600</td>\n",
       "      <td>1-1-</td>\n",
       "      <td>MC</td>\n",
       "      <td>Mastercard</td>\n",
       "      <td>CREDIT_CARD</td>\n",
       "      <td>PAID</td>\n",
       "      <td>NaN</td>\n",
       "      <td>NaN</td>\n",
       "      <td>NaN</td>\n",
       "    </tr>\n",
       "    <tr>\n",
       "      <th>4</th>\n",
       "      <td>D-57873-977cb32c-c2aa-4e60-b451-0d1c5ffa0dd6</td>\n",
       "      <td>BR-P1-1-352910</td>\n",
       "      <td>QRS1TXCHFOURGXH6RDFBXDVTLE5QIHSW9TJ</td>\n",
       "      <td>2022-11-15 16:40:03</td>\n",
       "      <td>2022-11-15 16:41:04</td>\n",
       "      <td>8.82</td>\n",
       "      <td>0.34</td>\n",
       "      <td>50.00</td>\n",
       "      <td>1.950</td>\n",
       "      <td>NaN</td>\n",
       "      <td>...</td>\n",
       "      <td>BR</td>\n",
       "      <td>7132977b-2676-4ae9-87f0-8e282f7d5d11</td>\n",
       "      <td>1-1-</td>\n",
       "      <td>PQ</td>\n",
       "      <td>PIX QR</td>\n",
       "      <td>CASH</td>\n",
       "      <td>PAID</td>\n",
       "      <td>NaN</td>\n",
       "      <td>NaN</td>\n",
       "      <td>NaN</td>\n",
       "    </tr>\n",
       "    <tr>\n",
       "      <th>...</th>\n",
       "      <td>...</td>\n",
       "      <td>...</td>\n",
       "      <td>...</td>\n",
       "      <td>...</td>\n",
       "      <td>...</td>\n",
       "      <td>...</td>\n",
       "      <td>...</td>\n",
       "      <td>...</td>\n",
       "      <td>...</td>\n",
       "      <td>...</td>\n",
       "      <td>...</td>\n",
       "      <td>...</td>\n",
       "      <td>...</td>\n",
       "      <td>...</td>\n",
       "      <td>...</td>\n",
       "      <td>...</td>\n",
       "      <td>...</td>\n",
       "      <td>...</td>\n",
       "      <td>...</td>\n",
       "      <td>...</td>\n",
       "      <td>...</td>\n",
       "    </tr>\n",
       "    <tr>\n",
       "      <th>4140</th>\n",
       "      <td>T-57873-b543bdc7-8a17-4548-b831-5afd0f825f52</td>\n",
       "      <td>CO-P1-1-843121</td>\n",
       "      <td>329038602</td>\n",
       "      <td>2023-02-28 20:44:22</td>\n",
       "      <td>2023-02-28 20:44:21</td>\n",
       "      <td>9.41</td>\n",
       "      <td>0.55</td>\n",
       "      <td>48571.00</td>\n",
       "      <td>2817.118</td>\n",
       "      <td>NaN</td>\n",
       "      <td>...</td>\n",
       "      <td>CO</td>\n",
       "      <td>f5703ae5-4b3f-4532-b4f4-e604ae1cb9b1</td>\n",
       "      <td>1-1-</td>\n",
       "      <td>NO ESTABA NOV</td>\n",
       "      <td>ESTABA DIC</td>\n",
       "      <td>NO ESTABA ENE</td>\n",
       "      <td>VD</td>\n",
       "      <td>Visa Debit</td>\n",
       "      <td>DEBIT_CARD</td>\n",
       "      <td>PAID</td>\n",
       "    </tr>\n",
       "    <tr>\n",
       "      <th>4141</th>\n",
       "      <td>D-57873-16d9bdcd-34a9-4aa0-9f79-08688bf059e1</td>\n",
       "      <td>BR-P1-1-565792</td>\n",
       "      <td>QRS1TXHLPWPPIRIC5AV13YKTGYHSNZJYWC6</td>\n",
       "      <td>2023-02-28 21:03:09</td>\n",
       "      <td>2023-02-28 21:03:58</td>\n",
       "      <td>8.97</td>\n",
       "      <td>0.35</td>\n",
       "      <td>50.00</td>\n",
       "      <td>1.950</td>\n",
       "      <td>NaN</td>\n",
       "      <td>...</td>\n",
       "      <td>BR</td>\n",
       "      <td>25eea9a0-4c73-49d3-8500-93166b37bd07</td>\n",
       "      <td>1-1-</td>\n",
       "      <td>NO ESTABA NOV</td>\n",
       "      <td>ESTABA DIC</td>\n",
       "      <td>ESTABA ENE</td>\n",
       "      <td>PQ</td>\n",
       "      <td>PIX QR</td>\n",
       "      <td>CASH</td>\n",
       "      <td>PAID</td>\n",
       "    </tr>\n",
       "    <tr>\n",
       "      <th>4142</th>\n",
       "      <td>D-57873-a61f2141-fe8a-4914-b057-69c450a34b5b</td>\n",
       "      <td>BR-P1-1-886674</td>\n",
       "      <td>QRS1TXCQS5MGFQWNM0GNQZYXJLET7EWJUIC</td>\n",
       "      <td>2023-02-28 21:52:19</td>\n",
       "      <td>2023-02-28 21:55:03</td>\n",
       "      <td>8.97</td>\n",
       "      <td>0.35</td>\n",
       "      <td>50.00</td>\n",
       "      <td>1.950</td>\n",
       "      <td>NaN</td>\n",
       "      <td>...</td>\n",
       "      <td>BR</td>\n",
       "      <td>28f535e0-594b-11ec-b039-f34849094ca6</td>\n",
       "      <td>1-1-</td>\n",
       "      <td>NO ESTABA NOV</td>\n",
       "      <td>ESTABA DIC</td>\n",
       "      <td>ESTABA ENE</td>\n",
       "      <td>PQ</td>\n",
       "      <td>PIX QR</td>\n",
       "      <td>CASH</td>\n",
       "      <td>PAID</td>\n",
       "    </tr>\n",
       "    <tr>\n",
       "      <th>4143</th>\n",
       "      <td>D-57873-17418bc9-6b30-456b-b7f3-1da2b2ad10d7</td>\n",
       "      <td>BR-P1-1-644699</td>\n",
       "      <td>QRS1TXOTCWY9AH5U2EPEXTIFGKT23AA9J6Q</td>\n",
       "      <td>2023-02-28 21:58:57</td>\n",
       "      <td>2023-02-28 21:59:38</td>\n",
       "      <td>8.97</td>\n",
       "      <td>0.35</td>\n",
       "      <td>50.00</td>\n",
       "      <td>1.950</td>\n",
       "      <td>NaN</td>\n",
       "      <td>...</td>\n",
       "      <td>BR</td>\n",
       "      <td>7937b18f-3e6a-4f6c-8212-6dcda7b6eef5</td>\n",
       "      <td>1-1-</td>\n",
       "      <td>NO ESTABA NOV</td>\n",
       "      <td>NO ESTABA DIC</td>\n",
       "      <td>NO ESTABA ENE</td>\n",
       "      <td>PQ</td>\n",
       "      <td>PIX QR</td>\n",
       "      <td>CASH</td>\n",
       "      <td>PAID</td>\n",
       "    </tr>\n",
       "    <tr>\n",
       "      <th>4144</th>\n",
       "      <td>T-57873-8c3c30bf-c2f4-4d3c-b2a9-3776a9a83502</td>\n",
       "      <td>BR-P1-12-335387</td>\n",
       "      <td>c1a972ba-cd27-4bfa-8b82-d1bcb08a2a9e</td>\n",
       "      <td>2023-02-28 22:48:41</td>\n",
       "      <td>2023-02-28 22:48:40</td>\n",
       "      <td>75.37</td>\n",
       "      <td>2.41</td>\n",
       "      <td>420.00</td>\n",
       "      <td>13.440</td>\n",
       "      <td>NaN</td>\n",
       "      <td>...</td>\n",
       "      <td>BR</td>\n",
       "      <td>ed969e9d-996d-4618-a17f-846f17d1253c</td>\n",
       "      <td>1-12</td>\n",
       "      <td>NO ESTABA NOV</td>\n",
       "      <td>NO ESTABA DIC</td>\n",
       "      <td>NO ESTABA ENE</td>\n",
       "      <td>MC</td>\n",
       "      <td>Mastercard</td>\n",
       "      <td>CREDIT_CARD</td>\n",
       "      <td>PAID</td>\n",
       "    </tr>\n",
       "  </tbody>\n",
       "</table>\n",
       "<p>4145 rows × 23 columns</p>\n",
       "</div>"
      ],
      "text/plain": [
       "                                         Reference          Invoice  \\\n",
       "0     T-57873-43a5b0ae-55c0-4f38-b5f6-59d7003c2e5a   PE-P1-1-653955   \n",
       "1     T-57873-92026b78-814e-453f-972d-a20672ab5ff1   PE-P1-1-965257   \n",
       "2     D-57873-c263d0d4-17f9-4501-ad69-8ed94aa4521a   BR-P1-1-931470   \n",
       "3     T-57873-961c6cea-5e16-41b1-b2a8-10881b76a399   PE-P1-1-488267   \n",
       "4     D-57873-977cb32c-c2aa-4e60-b451-0d1c5ffa0dd6   BR-P1-1-352910   \n",
       "...                                            ...              ...   \n",
       "4140  T-57873-b543bdc7-8a17-4548-b831-5afd0f825f52   CO-P1-1-843121   \n",
       "4141  D-57873-16d9bdcd-34a9-4aa0-9f79-08688bf059e1   BR-P1-1-565792   \n",
       "4142  D-57873-a61f2141-fe8a-4914-b057-69c450a34b5b   BR-P1-1-886674   \n",
       "4143  D-57873-17418bc9-6b30-456b-b7f3-1da2b2ad10d7   BR-P1-1-644699   \n",
       "4144  T-57873-8c3c30bf-c2f4-4d3c-b2a9-3776a9a83502  BR-P1-12-335387   \n",
       "\n",
       "                        External Reference          Create Date  \\\n",
       "0                     DLPA0288000004184813  2022-11-15 00:48:16   \n",
       "1                                      NaN  2022-11-15 01:23:56   \n",
       "2      QRS1TXZS9YQTDKX5NS4WIHJQT6CZCVPOHNH  2022-11-15 01:34:29   \n",
       "3                     DLPA0288000005194403  2022-11-15 01:44:06   \n",
       "4      QRS1TXCHFOURGXH6RDFBXDVTLE5QIHSW9TJ  2022-11-15 16:40:03   \n",
       "...                                    ...                  ...   \n",
       "4140                             329038602  2023-02-28 20:44:22   \n",
       "4141   QRS1TXHLPWPPIRIC5AV13YKTGYHSNZJYWC6  2023-02-28 21:03:09   \n",
       "4142   QRS1TXCQS5MGFQWNM0GNQZYXJLET7EWJUIC  2023-02-28 21:52:19   \n",
       "4143   QRS1TXOTCWY9AH5U2EPEXTIFGKT23AA9J6Q  2023-02-28 21:58:57   \n",
       "4144  c1a972ba-cd27-4bfa-8b82-d1bcb08a2a9e  2023-02-28 22:48:41   \n",
       "\n",
       "           Validated Date  Amount Usd  Fee amount USD  Local Amount  \\\n",
       "0     2022-11-15 00:48:16       10.15            0.74         41.43   \n",
       "1                     NaN       10.15            0.74         41.43   \n",
       "2     2022-11-15 01:36:58        8.82            0.34         50.00   \n",
       "3     2022-11-15 01:44:06       10.15            0.74         41.43   \n",
       "4     2022-11-15 16:41:04        8.82            0.34         50.00   \n",
       "...                   ...         ...             ...           ...   \n",
       "4140  2023-02-28 20:44:21        9.41            0.55      48571.00   \n",
       "4141  2023-02-28 21:03:58        8.97            0.35         50.00   \n",
       "4142  2023-02-28 21:55:03        8.97            0.35         50.00   \n",
       "4143  2023-02-28 21:59:38        8.97            0.35         50.00   \n",
       "4144  2023-02-28 22:48:40       75.37            2.41        420.00   \n",
       "\n",
       "      Local Fee Amount  Local VAT  ...  Country  \\\n",
       "0                3.012        NaN  ...       PE   \n",
       "1                3.012        NaN  ...       PE   \n",
       "2                1.950        NaN  ...       BR   \n",
       "3                3.012        NaN  ...       PE   \n",
       "4                1.950        NaN  ...       BR   \n",
       "...                ...        ...  ...      ...   \n",
       "4140          2817.118        NaN  ...       CO   \n",
       "4141             1.950        NaN  ...       BR   \n",
       "4142             1.950        NaN  ...       BR   \n",
       "4143             1.950        NaN  ...       BR   \n",
       "4144            13.440        NaN  ...       BR   \n",
       "\n",
       "                              User account  EXTRAE Payment Method  \\\n",
       "0     4370ff50-6274-11eb-8b6f-f982d369514b    1-1-             MC   \n",
       "1     ba9c31f0-64ea-11eb-be1e-531b2e90c600    1-1-             MC   \n",
       "2     109e95e0-9d66-11eb-9de4-5b801bf08e66    1-1-             PQ   \n",
       "3     ba9c31f0-64ea-11eb-be1e-531b2e90c600    1-1-             MC   \n",
       "4     7132977b-2676-4ae9-87f0-8e282f7d5d11    1-1-             PQ   \n",
       "...                                    ...     ...            ...   \n",
       "4140  f5703ae5-4b3f-4532-b4f4-e604ae1cb9b1    1-1-  NO ESTABA NOV   \n",
       "4141  25eea9a0-4c73-49d3-8500-93166b37bd07    1-1-  NO ESTABA NOV   \n",
       "4142  28f535e0-594b-11ec-b039-f34849094ca6    1-1-  NO ESTABA NOV   \n",
       "4143  7937b18f-3e6a-4f6c-8212-6dcda7b6eef5    1-1-  NO ESTABA NOV   \n",
       "4144  ed969e9d-996d-4618-a17f-846f17d1253c    1-12  NO ESTABA NOV   \n",
       "\n",
       "     Payment Method Name Payment Method Type    Status Unnamed: 20  \\\n",
       "0             Mastercard         CREDIT_CARD      PAID         NaN   \n",
       "1             Mastercard         CREDIT_CARD  REJECTED         NaN   \n",
       "2                 PIX QR                CASH      PAID         NaN   \n",
       "3             Mastercard         CREDIT_CARD      PAID         NaN   \n",
       "4                 PIX QR                CASH      PAID         NaN   \n",
       "...                  ...                 ...       ...         ...   \n",
       "4140          ESTABA DIC       NO ESTABA ENE        VD  Visa Debit   \n",
       "4141          ESTABA DIC          ESTABA ENE        PQ      PIX QR   \n",
       "4142          ESTABA DIC          ESTABA ENE        PQ      PIX QR   \n",
       "4143       NO ESTABA DIC       NO ESTABA ENE        PQ      PIX QR   \n",
       "4144       NO ESTABA DIC       NO ESTABA ENE        MC  Mastercard   \n",
       "\n",
       "      Unnamed: 21 Unnamed: 22  \n",
       "0             NaN         NaN  \n",
       "1             NaN         NaN  \n",
       "2             NaN         NaN  \n",
       "3             NaN         NaN  \n",
       "4             NaN         NaN  \n",
       "...           ...         ...  \n",
       "4140   DEBIT_CARD        PAID  \n",
       "4141         CASH        PAID  \n",
       "4142         CASH        PAID  \n",
       "4143         CASH        PAID  \n",
       "4144  CREDIT_CARD        PAID  \n",
       "\n",
       "[4145 rows x 23 columns]"
      ]
     },
     "execution_count": 235,
     "metadata": {},
     "output_type": "execute_result"
    }
   ],
   "source": [
    "df = pd.read_csv('testcohorts.csv')\n",
    "df"
   ]
  },
  {
   "attachments": {},
   "cell_type": "markdown",
   "metadata": {},
   "source": [
    "# ELIMINANDO COLUMNAS ATIPICAS "
   ]
  },
  {
   "cell_type": "code",
   "execution_count": 236,
   "metadata": {},
   "outputs": [],
   "source": [
    "df.drop(['Unnamed: 20', 'Unnamed: 21', 'Unnamed: 22'], axis='columns', inplace=True)\n"
   ]
  },
  {
   "attachments": {},
   "cell_type": "markdown",
   "metadata": {},
   "source": [
    "# Quitando NaN y atipicos remplazando por ceros"
   ]
  },
  {
   "cell_type": "code",
   "execution_count": 237,
   "metadata": {},
   "outputs": [],
   "source": [
    "df.fillna(0, inplace=True)"
   ]
  },
  {
   "attachments": {},
   "cell_type": "markdown",
   "metadata": {},
   "source": [
    "# Comprobando Dataframe"
   ]
  },
  {
   "cell_type": "code",
   "execution_count": 238,
   "metadata": {},
   "outputs": [
    {
     "data": {
      "text/html": [
       "<div>\n",
       "<style scoped>\n",
       "    .dataframe tbody tr th:only-of-type {\n",
       "        vertical-align: middle;\n",
       "    }\n",
       "\n",
       "    .dataframe tbody tr th {\n",
       "        vertical-align: top;\n",
       "    }\n",
       "\n",
       "    .dataframe thead th {\n",
       "        text-align: right;\n",
       "    }\n",
       "</style>\n",
       "<table border=\"1\" class=\"dataframe\">\n",
       "  <thead>\n",
       "    <tr style=\"text-align: right;\">\n",
       "      <th></th>\n",
       "      <th>Reference</th>\n",
       "      <th>Invoice</th>\n",
       "      <th>External Reference</th>\n",
       "      <th>Create Date</th>\n",
       "      <th>Validated Date</th>\n",
       "      <th>Amount Usd</th>\n",
       "      <th>Fee amount USD</th>\n",
       "      <th>Local Amount</th>\n",
       "      <th>Local Fee Amount</th>\n",
       "      <th>Local VAT</th>\n",
       "      <th>Local Original Amount</th>\n",
       "      <th>Local Currency</th>\n",
       "      <th>Exchange Rate</th>\n",
       "      <th>Country</th>\n",
       "      <th>User account</th>\n",
       "      <th>EXTRAE</th>\n",
       "      <th>Payment Method</th>\n",
       "      <th>Payment Method Name</th>\n",
       "      <th>Payment Method Type</th>\n",
       "      <th>Status</th>\n",
       "    </tr>\n",
       "  </thead>\n",
       "  <tbody>\n",
       "    <tr>\n",
       "      <th>0</th>\n",
       "      <td>T-57873-43a5b0ae-55c0-4f38-b5f6-59d7003c2e5a</td>\n",
       "      <td>PE-P1-1-653955</td>\n",
       "      <td>DLPA0288000004184813</td>\n",
       "      <td>2022-11-15 00:48:16</td>\n",
       "      <td>2022-11-15 00:48:16</td>\n",
       "      <td>10.15</td>\n",
       "      <td>0.74</td>\n",
       "      <td>41.43</td>\n",
       "      <td>3.012</td>\n",
       "      <td>0.0</td>\n",
       "      <td>0.0</td>\n",
       "      <td>PEN</td>\n",
       "      <td>4.0812</td>\n",
       "      <td>PE</td>\n",
       "      <td>4370ff50-6274-11eb-8b6f-f982d369514b</td>\n",
       "      <td>1-1-</td>\n",
       "      <td>MC</td>\n",
       "      <td>Mastercard</td>\n",
       "      <td>CREDIT_CARD</td>\n",
       "      <td>PAID</td>\n",
       "    </tr>\n",
       "    <tr>\n",
       "      <th>1</th>\n",
       "      <td>T-57873-92026b78-814e-453f-972d-a20672ab5ff1</td>\n",
       "      <td>PE-P1-1-965257</td>\n",
       "      <td>0</td>\n",
       "      <td>2022-11-15 01:23:56</td>\n",
       "      <td>0</td>\n",
       "      <td>10.15</td>\n",
       "      <td>0.74</td>\n",
       "      <td>41.43</td>\n",
       "      <td>3.012</td>\n",
       "      <td>0.0</td>\n",
       "      <td>0.0</td>\n",
       "      <td>PEN</td>\n",
       "      <td>4.0812</td>\n",
       "      <td>PE</td>\n",
       "      <td>ba9c31f0-64ea-11eb-be1e-531b2e90c600</td>\n",
       "      <td>1-1-</td>\n",
       "      <td>MC</td>\n",
       "      <td>Mastercard</td>\n",
       "      <td>CREDIT_CARD</td>\n",
       "      <td>REJECTED</td>\n",
       "    </tr>\n",
       "    <tr>\n",
       "      <th>2</th>\n",
       "      <td>D-57873-c263d0d4-17f9-4501-ad69-8ed94aa4521a</td>\n",
       "      <td>BR-P1-1-931470</td>\n",
       "      <td>QRS1TXZS9YQTDKX5NS4WIHJQT6CZCVPOHNH</td>\n",
       "      <td>2022-11-15 01:34:29</td>\n",
       "      <td>2022-11-15 01:36:58</td>\n",
       "      <td>8.82</td>\n",
       "      <td>0.34</td>\n",
       "      <td>50.00</td>\n",
       "      <td>1.950</td>\n",
       "      <td>0.0</td>\n",
       "      <td>0.0</td>\n",
       "      <td>BRL</td>\n",
       "      <td>5.6455</td>\n",
       "      <td>BR</td>\n",
       "      <td>109e95e0-9d66-11eb-9de4-5b801bf08e66</td>\n",
       "      <td>1-1-</td>\n",
       "      <td>PQ</td>\n",
       "      <td>PIX QR</td>\n",
       "      <td>CASH</td>\n",
       "      <td>PAID</td>\n",
       "    </tr>\n",
       "    <tr>\n",
       "      <th>3</th>\n",
       "      <td>T-57873-961c6cea-5e16-41b1-b2a8-10881b76a399</td>\n",
       "      <td>PE-P1-1-488267</td>\n",
       "      <td>DLPA0288000005194403</td>\n",
       "      <td>2022-11-15 01:44:06</td>\n",
       "      <td>2022-11-15 01:44:06</td>\n",
       "      <td>10.15</td>\n",
       "      <td>0.74</td>\n",
       "      <td>41.43</td>\n",
       "      <td>3.012</td>\n",
       "      <td>0.0</td>\n",
       "      <td>0.0</td>\n",
       "      <td>PEN</td>\n",
       "      <td>4.0812</td>\n",
       "      <td>PE</td>\n",
       "      <td>ba9c31f0-64ea-11eb-be1e-531b2e90c600</td>\n",
       "      <td>1-1-</td>\n",
       "      <td>MC</td>\n",
       "      <td>Mastercard</td>\n",
       "      <td>CREDIT_CARD</td>\n",
       "      <td>PAID</td>\n",
       "    </tr>\n",
       "    <tr>\n",
       "      <th>4</th>\n",
       "      <td>D-57873-977cb32c-c2aa-4e60-b451-0d1c5ffa0dd6</td>\n",
       "      <td>BR-P1-1-352910</td>\n",
       "      <td>QRS1TXCHFOURGXH6RDFBXDVTLE5QIHSW9TJ</td>\n",
       "      <td>2022-11-15 16:40:03</td>\n",
       "      <td>2022-11-15 16:41:04</td>\n",
       "      <td>8.82</td>\n",
       "      <td>0.34</td>\n",
       "      <td>50.00</td>\n",
       "      <td>1.950</td>\n",
       "      <td>0.0</td>\n",
       "      <td>0.0</td>\n",
       "      <td>BRL</td>\n",
       "      <td>5.6455</td>\n",
       "      <td>BR</td>\n",
       "      <td>7132977b-2676-4ae9-87f0-8e282f7d5d11</td>\n",
       "      <td>1-1-</td>\n",
       "      <td>PQ</td>\n",
       "      <td>PIX QR</td>\n",
       "      <td>CASH</td>\n",
       "      <td>PAID</td>\n",
       "    </tr>\n",
       "    <tr>\n",
       "      <th>...</th>\n",
       "      <td>...</td>\n",
       "      <td>...</td>\n",
       "      <td>...</td>\n",
       "      <td>...</td>\n",
       "      <td>...</td>\n",
       "      <td>...</td>\n",
       "      <td>...</td>\n",
       "      <td>...</td>\n",
       "      <td>...</td>\n",
       "      <td>...</td>\n",
       "      <td>...</td>\n",
       "      <td>...</td>\n",
       "      <td>...</td>\n",
       "      <td>...</td>\n",
       "      <td>...</td>\n",
       "      <td>...</td>\n",
       "      <td>...</td>\n",
       "      <td>...</td>\n",
       "      <td>...</td>\n",
       "      <td>...</td>\n",
       "    </tr>\n",
       "    <tr>\n",
       "      <th>4140</th>\n",
       "      <td>T-57873-b543bdc7-8a17-4548-b831-5afd0f825f52</td>\n",
       "      <td>CO-P1-1-843121</td>\n",
       "      <td>329038602</td>\n",
       "      <td>2023-02-28 20:44:22</td>\n",
       "      <td>2023-02-28 20:44:21</td>\n",
       "      <td>9.41</td>\n",
       "      <td>0.55</td>\n",
       "      <td>48571.00</td>\n",
       "      <td>2817.118</td>\n",
       "      <td>0.0</td>\n",
       "      <td>0.0</td>\n",
       "      <td>COP</td>\n",
       "      <td>5160.9490</td>\n",
       "      <td>CO</td>\n",
       "      <td>f5703ae5-4b3f-4532-b4f4-e604ae1cb9b1</td>\n",
       "      <td>1-1-</td>\n",
       "      <td>NO ESTABA NOV</td>\n",
       "      <td>ESTABA DIC</td>\n",
       "      <td>NO ESTABA ENE</td>\n",
       "      <td>VD</td>\n",
       "    </tr>\n",
       "    <tr>\n",
       "      <th>4141</th>\n",
       "      <td>D-57873-16d9bdcd-34a9-4aa0-9f79-08688bf059e1</td>\n",
       "      <td>BR-P1-1-565792</td>\n",
       "      <td>QRS1TXHLPWPPIRIC5AV13YKTGYHSNZJYWC6</td>\n",
       "      <td>2023-02-28 21:03:09</td>\n",
       "      <td>2023-02-28 21:03:58</td>\n",
       "      <td>8.97</td>\n",
       "      <td>0.35</td>\n",
       "      <td>50.00</td>\n",
       "      <td>1.950</td>\n",
       "      <td>0.0</td>\n",
       "      <td>0.0</td>\n",
       "      <td>BRL</td>\n",
       "      <td>5.5512</td>\n",
       "      <td>BR</td>\n",
       "      <td>25eea9a0-4c73-49d3-8500-93166b37bd07</td>\n",
       "      <td>1-1-</td>\n",
       "      <td>NO ESTABA NOV</td>\n",
       "      <td>ESTABA DIC</td>\n",
       "      <td>ESTABA ENE</td>\n",
       "      <td>PQ</td>\n",
       "    </tr>\n",
       "    <tr>\n",
       "      <th>4142</th>\n",
       "      <td>D-57873-a61f2141-fe8a-4914-b057-69c450a34b5b</td>\n",
       "      <td>BR-P1-1-886674</td>\n",
       "      <td>QRS1TXCQS5MGFQWNM0GNQZYXJLET7EWJUIC</td>\n",
       "      <td>2023-02-28 21:52:19</td>\n",
       "      <td>2023-02-28 21:55:03</td>\n",
       "      <td>8.97</td>\n",
       "      <td>0.35</td>\n",
       "      <td>50.00</td>\n",
       "      <td>1.950</td>\n",
       "      <td>0.0</td>\n",
       "      <td>0.0</td>\n",
       "      <td>BRL</td>\n",
       "      <td>5.5512</td>\n",
       "      <td>BR</td>\n",
       "      <td>28f535e0-594b-11ec-b039-f34849094ca6</td>\n",
       "      <td>1-1-</td>\n",
       "      <td>NO ESTABA NOV</td>\n",
       "      <td>ESTABA DIC</td>\n",
       "      <td>ESTABA ENE</td>\n",
       "      <td>PQ</td>\n",
       "    </tr>\n",
       "    <tr>\n",
       "      <th>4143</th>\n",
       "      <td>D-57873-17418bc9-6b30-456b-b7f3-1da2b2ad10d7</td>\n",
       "      <td>BR-P1-1-644699</td>\n",
       "      <td>QRS1TXOTCWY9AH5U2EPEXTIFGKT23AA9J6Q</td>\n",
       "      <td>2023-02-28 21:58:57</td>\n",
       "      <td>2023-02-28 21:59:38</td>\n",
       "      <td>8.97</td>\n",
       "      <td>0.35</td>\n",
       "      <td>50.00</td>\n",
       "      <td>1.950</td>\n",
       "      <td>0.0</td>\n",
       "      <td>0.0</td>\n",
       "      <td>BRL</td>\n",
       "      <td>5.5512</td>\n",
       "      <td>BR</td>\n",
       "      <td>7937b18f-3e6a-4f6c-8212-6dcda7b6eef5</td>\n",
       "      <td>1-1-</td>\n",
       "      <td>NO ESTABA NOV</td>\n",
       "      <td>NO ESTABA DIC</td>\n",
       "      <td>NO ESTABA ENE</td>\n",
       "      <td>PQ</td>\n",
       "    </tr>\n",
       "    <tr>\n",
       "      <th>4144</th>\n",
       "      <td>T-57873-8c3c30bf-c2f4-4d3c-b2a9-3776a9a83502</td>\n",
       "      <td>BR-P1-12-335387</td>\n",
       "      <td>c1a972ba-cd27-4bfa-8b82-d1bcb08a2a9e</td>\n",
       "      <td>2023-02-28 22:48:41</td>\n",
       "      <td>2023-02-28 22:48:40</td>\n",
       "      <td>75.37</td>\n",
       "      <td>2.41</td>\n",
       "      <td>420.00</td>\n",
       "      <td>13.440</td>\n",
       "      <td>0.0</td>\n",
       "      <td>0.0</td>\n",
       "      <td>BRL</td>\n",
       "      <td>5.5512</td>\n",
       "      <td>BR</td>\n",
       "      <td>ed969e9d-996d-4618-a17f-846f17d1253c</td>\n",
       "      <td>1-12</td>\n",
       "      <td>NO ESTABA NOV</td>\n",
       "      <td>NO ESTABA DIC</td>\n",
       "      <td>NO ESTABA ENE</td>\n",
       "      <td>MC</td>\n",
       "    </tr>\n",
       "  </tbody>\n",
       "</table>\n",
       "<p>4145 rows × 20 columns</p>\n",
       "</div>"
      ],
      "text/plain": [
       "                                         Reference          Invoice  \\\n",
       "0     T-57873-43a5b0ae-55c0-4f38-b5f6-59d7003c2e5a   PE-P1-1-653955   \n",
       "1     T-57873-92026b78-814e-453f-972d-a20672ab5ff1   PE-P1-1-965257   \n",
       "2     D-57873-c263d0d4-17f9-4501-ad69-8ed94aa4521a   BR-P1-1-931470   \n",
       "3     T-57873-961c6cea-5e16-41b1-b2a8-10881b76a399   PE-P1-1-488267   \n",
       "4     D-57873-977cb32c-c2aa-4e60-b451-0d1c5ffa0dd6   BR-P1-1-352910   \n",
       "...                                            ...              ...   \n",
       "4140  T-57873-b543bdc7-8a17-4548-b831-5afd0f825f52   CO-P1-1-843121   \n",
       "4141  D-57873-16d9bdcd-34a9-4aa0-9f79-08688bf059e1   BR-P1-1-565792   \n",
       "4142  D-57873-a61f2141-fe8a-4914-b057-69c450a34b5b   BR-P1-1-886674   \n",
       "4143  D-57873-17418bc9-6b30-456b-b7f3-1da2b2ad10d7   BR-P1-1-644699   \n",
       "4144  T-57873-8c3c30bf-c2f4-4d3c-b2a9-3776a9a83502  BR-P1-12-335387   \n",
       "\n",
       "                        External Reference          Create Date  \\\n",
       "0                     DLPA0288000004184813  2022-11-15 00:48:16   \n",
       "1                                        0  2022-11-15 01:23:56   \n",
       "2      QRS1TXZS9YQTDKX5NS4WIHJQT6CZCVPOHNH  2022-11-15 01:34:29   \n",
       "3                     DLPA0288000005194403  2022-11-15 01:44:06   \n",
       "4      QRS1TXCHFOURGXH6RDFBXDVTLE5QIHSW9TJ  2022-11-15 16:40:03   \n",
       "...                                    ...                  ...   \n",
       "4140                             329038602  2023-02-28 20:44:22   \n",
       "4141   QRS1TXHLPWPPIRIC5AV13YKTGYHSNZJYWC6  2023-02-28 21:03:09   \n",
       "4142   QRS1TXCQS5MGFQWNM0GNQZYXJLET7EWJUIC  2023-02-28 21:52:19   \n",
       "4143   QRS1TXOTCWY9AH5U2EPEXTIFGKT23AA9J6Q  2023-02-28 21:58:57   \n",
       "4144  c1a972ba-cd27-4bfa-8b82-d1bcb08a2a9e  2023-02-28 22:48:41   \n",
       "\n",
       "           Validated Date  Amount Usd  Fee amount USD  Local Amount  \\\n",
       "0     2022-11-15 00:48:16       10.15            0.74         41.43   \n",
       "1                       0       10.15            0.74         41.43   \n",
       "2     2022-11-15 01:36:58        8.82            0.34         50.00   \n",
       "3     2022-11-15 01:44:06       10.15            0.74         41.43   \n",
       "4     2022-11-15 16:41:04        8.82            0.34         50.00   \n",
       "...                   ...         ...             ...           ...   \n",
       "4140  2023-02-28 20:44:21        9.41            0.55      48571.00   \n",
       "4141  2023-02-28 21:03:58        8.97            0.35         50.00   \n",
       "4142  2023-02-28 21:55:03        8.97            0.35         50.00   \n",
       "4143  2023-02-28 21:59:38        8.97            0.35         50.00   \n",
       "4144  2023-02-28 22:48:40       75.37            2.41        420.00   \n",
       "\n",
       "      Local Fee Amount  Local VAT  Local Original Amount Local Currency  \\\n",
       "0                3.012        0.0                    0.0            PEN   \n",
       "1                3.012        0.0                    0.0            PEN   \n",
       "2                1.950        0.0                    0.0            BRL   \n",
       "3                3.012        0.0                    0.0            PEN   \n",
       "4                1.950        0.0                    0.0            BRL   \n",
       "...                ...        ...                    ...            ...   \n",
       "4140          2817.118        0.0                    0.0            COP   \n",
       "4141             1.950        0.0                    0.0            BRL   \n",
       "4142             1.950        0.0                    0.0            BRL   \n",
       "4143             1.950        0.0                    0.0            BRL   \n",
       "4144            13.440        0.0                    0.0            BRL   \n",
       "\n",
       "      Exchange Rate Country                          User account EXTRAE  \\\n",
       "0            4.0812      PE  4370ff50-6274-11eb-8b6f-f982d369514b   1-1-   \n",
       "1            4.0812      PE  ba9c31f0-64ea-11eb-be1e-531b2e90c600   1-1-   \n",
       "2            5.6455      BR  109e95e0-9d66-11eb-9de4-5b801bf08e66   1-1-   \n",
       "3            4.0812      PE  ba9c31f0-64ea-11eb-be1e-531b2e90c600   1-1-   \n",
       "4            5.6455      BR  7132977b-2676-4ae9-87f0-8e282f7d5d11   1-1-   \n",
       "...             ...     ...                                   ...    ...   \n",
       "4140      5160.9490      CO  f5703ae5-4b3f-4532-b4f4-e604ae1cb9b1   1-1-   \n",
       "4141         5.5512      BR  25eea9a0-4c73-49d3-8500-93166b37bd07   1-1-   \n",
       "4142         5.5512      BR  28f535e0-594b-11ec-b039-f34849094ca6   1-1-   \n",
       "4143         5.5512      BR  7937b18f-3e6a-4f6c-8212-6dcda7b6eef5   1-1-   \n",
       "4144         5.5512      BR  ed969e9d-996d-4618-a17f-846f17d1253c   1-12   \n",
       "\n",
       "     Payment Method Payment Method Name Payment Method Type    Status  \n",
       "0                MC          Mastercard         CREDIT_CARD      PAID  \n",
       "1                MC          Mastercard         CREDIT_CARD  REJECTED  \n",
       "2                PQ              PIX QR                CASH      PAID  \n",
       "3                MC          Mastercard         CREDIT_CARD      PAID  \n",
       "4                PQ              PIX QR                CASH      PAID  \n",
       "...             ...                 ...                 ...       ...  \n",
       "4140  NO ESTABA NOV          ESTABA DIC       NO ESTABA ENE        VD  \n",
       "4141  NO ESTABA NOV          ESTABA DIC          ESTABA ENE        PQ  \n",
       "4142  NO ESTABA NOV          ESTABA DIC          ESTABA ENE        PQ  \n",
       "4143  NO ESTABA NOV       NO ESTABA DIC       NO ESTABA ENE        PQ  \n",
       "4144  NO ESTABA NOV       NO ESTABA DIC       NO ESTABA ENE        MC  \n",
       "\n",
       "[4145 rows x 20 columns]"
      ]
     },
     "execution_count": 238,
     "metadata": {},
     "output_type": "execute_result"
    }
   ],
   "source": [
    "df"
   ]
  },
  {
   "attachments": {},
   "cell_type": "markdown",
   "metadata": {},
   "source": [
    "# Respaldando el nuevo archivo CSV con el ETL adecuado"
   ]
  },
  {
   "cell_type": "code",
   "execution_count": 239,
   "metadata": {},
   "outputs": [],
   "source": [
    "df.to_csv('cohortspp.csv', index=False)"
   ]
  },
  {
   "cell_type": "code",
   "execution_count": 240,
   "metadata": {},
   "outputs": [],
   "source": [
    "df['Create Date'] = pd.to_datetime(df['Create Date'])"
   ]
  },
  {
   "attachments": {},
   "cell_type": "markdown",
   "metadata": {},
   "source": [
    "# Normalizando y creando nuevos campos para realizar el Cohorts"
   ]
  },
  {
   "cell_type": "code",
   "execution_count": 241,
   "metadata": {},
   "outputs": [],
   "source": [
    "# Calcular la fecha mínima para cada Reference\n",
    "df['FechaMin'] = df.groupby('Reference')['Create Date'].transform('min')\n",
    "\n",
    "# Calcular la diferencia en días entre la fecha de cada transacción y la fecha mínima para cada ID\n",
    "df['DiasDesdeFechaMin'] = (df['Create Date'] - df['FechaMin']).dt.days\n",
    "\n",
    "# Calcular el grupo de cohort para cada transacción\n",
    "df['CohortGroup'] = df['DiasDesdeFechaMin'] // 30"
   ]
  },
  {
   "cell_type": "code",
   "execution_count": 242,
   "metadata": {},
   "outputs": [],
   "source": [
    "# Calcular la diferencia en días entre la fecha de cada transacción y la fecha mínima para cada usuario\n",
    "df['DiasDesdeFechaMin'] = (df['Create Date'] - df['FechaMin']).dt.days\n",
    "\n",
    "# Calcular el período para cada transacción\n",
    "df['CohortPeriod'] = df['DiasDesdeFechaMin'] // 30"
   ]
  },
  {
   "cell_type": "code",
   "execution_count": 243,
   "metadata": {},
   "outputs": [
    {
     "name": "stdout",
     "output_type": "stream",
     "text": [
      "Países disponibles: ['PE' 'BR' 'PA' 'MX' 'CL' None 'CO']\n",
      "Planes disponibles: ['P1' 'P2' None]\n",
      "Duraciones disponibles: [ 1. 12.  3. nan  6.]\n"
     ]
    }
   ],
   "source": [
    "print(f'Países disponibles: {paises}')\n",
    "print(f'Planes disponibles: {planes}')\n",
    "print(f'Duraciones disponibles: {duraciones}')"
   ]
  },
  {
   "attachments": {},
   "cell_type": "markdown",
   "metadata": {},
   "source": [
    "# Cohorts resultante con el formato de salida esperada"
   ]
  },
  {
   "cell_type": "code",
   "execution_count": 244,
   "metadata": {},
   "outputs": [
    {
     "name": "stdout",
     "output_type": "stream",
     "text": [
      "Países disponibles: ['PE' 'BR' 'PA' 'MX' 'CL' None 'CO']\n",
      "Planes disponibles: ['P1' 'P2' None]\n",
      "Duraciones disponibles: [ 1. 12.  3. nan  6.]\n"
     ]
    },
    {
     "data": {
      "image/png": "[encoded data removed]",
      "text/plain": [
       "<Figure size 640x480 with 2 Axes>"
      ]
     },
     "metadata": {},
     "output_type": "display_data"
    }
   ],
   "source": [
    "# Definir una función para separar la información de la columna Invoice\n",
    "def split_invoice(invoice):\n",
    "    # Verificar que la entrada sea una cadena\n",
    "    if not isinstance(invoice, str):\n",
    "        # Si la entrada no es una cadena, devolver una lista de valores vacíos\n",
    "        return [None, None, None, None]\n",
    "    \n",
    "    # Separar la cadena por guiones\n",
    "    values = invoice.split('-')\n",
    "    \n",
    "    # Verificar que la lista de valores tenga la longitud correcta\n",
    "    if len(values) != 4:\n",
    "        # Si la longitud no es correcta, devolver una lista de valores vacíos\n",
    "        return [None, None, None, None]\n",
    "    \n",
    "    # Devolver la lista de valores\n",
    "    return values\n",
    "\n",
    "# Aplicar la función a cada valor de la columna Invoice\n",
    "df[['Pais', 'Plan', 'Duracion', 'ID']] = df['Invoice'].apply(split_invoice).to_list()\n",
    "\n",
    "# Convertir la columna Duracion a valores numéricos\n",
    "df['Duracion'] = pd.to_numeric(df['Duracion'])\n",
    "\n",
    "# Obtener una lista de valores únicos para cada columna Este código obtiene una lista de valores únicos para las columnas Pais, \n",
    "# Plan y Duracion utilizando el método unique y luego muestra estas listas al usuario antes de solicitar los datos de filtrado. \n",
    "# De esta manera, el usuario puede ver las opciones disponibles antes de ingresar su elección.\n",
    "paises = df['Pais'].unique()\n",
    "planes = df['Plan'].unique()\n",
    "duraciones = df['Duracion'].unique()\n",
    "\n",
    "# Solicitar al usuario los datos de filtrado\n",
    "print(f'Países disponibles: {paises}')\n",
    "pais = input('Ingrese el país: ')\n",
    "\n",
    "print(f'Planes disponibles: {planes}')\n",
    "plan = input('Ingrese el plan: ')\n",
    "\n",
    "print(f'Duraciones disponibles: {duraciones}')\n",
    "duracion = int(input('Ingrese la duración del plan: '))\n",
    "\n",
    "# Filtrar el DataFrame según los datos de filtrado\n",
    "df_filtrado = df[(df['Pais'] == pais) & (df['Plan'] == plan) & (df['Duracion'] == duracion)]\n",
    "\n",
    "# Verificar si df_filtrado está vacío\n",
    "if df_filtrado.empty:\n",
    "    # Si df_filtrado está vacío, mostrar un mensaje al usuario\n",
    "    print('No hay datos disponibles para los criterios de filtrado especificados.')\n",
    "    # Proporcionar un valor de 0 en la consulta\n",
    "    # ...\n",
    "else:\n",
    "    # Si df_filtrado no está vacío, calcular los cohorts y visualizarlos en un heatmap\n",
    "    cohort_data = pd.crosstab(df_filtrado['CohortGroup'], df_filtrado['CohortPeriod'])\n",
    "    sns.heatmap(cohort_data)"
   ]
  },
  {
   "attachments": {},
   "cell_type": "markdown",
   "metadata": {},
   "source": [
    "# Graficar con la finalidad de comprobar la homogenidad del resultado normalizado"
   ]
  },
  {
   "cell_type": "code",
   "execution_count": 245,
   "metadata": {},
   "outputs": [
    {
     "data": {
      "text/plain": [
       "<AxesSubplot: xlabel='Pais', ylabel='Cantidad'>"
      ]
     },
     "execution_count": 245,
     "metadata": {},
     "output_type": "execute_result"
    },
    {
     "data": {
      "image/png": "[encoded data removed]",
      "text/plain": [
       "<Figure size 640x480 with 1 Axes>"
      ]
     },
     "metadata": {},
     "output_type": "display_data"
    }
   ],
   "source": [
    "# Filtrar el DataFrame según los datos de filtrado\n",
    "df_filtrado = df[(df['Pais'] == pais) & (df['Plan'] == plan) & (df['Duracion'] == duracion)]\n",
    "\n",
    "# Calcular la cantidad de coincidencias para cada combinación de país y plan\n",
    "data = df_filtrado.groupby(['Pais', 'Plan']).size().reset_index(name='Cantidad')\n",
    "\n",
    "# Crear un gráfico de barras\n",
    "sns.barplot(x='Pais', y='Cantidad', hue='Plan', data=data)"
   ]
  },
  {
   "attachments": {},
   "cell_type": "markdown",
   "metadata": {},
   "source": [
    "Este código filtra el DataFrame según los datos de filtrado y luego inicializa una variable num_coincidencias para contar el número de coincidencias. Luego, itera sobre las filas del DataFrame filtrado utilizando el método iterrows y muestra la información del ID, el país, el plan y la duración para cada fila. También incrementa el contador de coincidencias en cada iteración. Finalmente, muestra el número total de coincidencias después de iterar sobre todas las filas."
   ]
  },
  {
   "cell_type": "code",
   "execution_count": 246,
   "metadata": {},
   "outputs": [
    {
     "name": "stdout",
     "output_type": "stream",
     "text": [
      "ID: T-57873-7e21c90e-4f96-4afe-97bf-2f8e359cafe3, País: CL, Plan: P2, Duración: 1.0\n",
      "ID: T-57873-1a38a836-3e07-442b-b6d4-a6cc66540898, País: CL, Plan: P2, Duración: 1.0\n",
      "ID: T-57873-5ff46e71-3722-4cda-8520-76afaf6fe42d, País: CL, Plan: P2, Duración: 1.0\n",
      "ID: T-57873-f67ffe5d-3ba5-4aec-9972-3590766073c9, País: CL, Plan: P2, Duración: 1.0\n",
      "ID: T-57873-33cbc9c2-a41e-497a-a19e-b4d6fa765abe, País: CL, Plan: P2, Duración: 1.0\n",
      "ID: T-57873-a0903a28-b4ad-4c39-b6f6-3b3ddebb52a7, País: CL, Plan: P2, Duración: 1.0\n",
      "ID: T-57873-4dce0162-2fa0-4538-89ab-8bfe98de3603, País: CL, Plan: P2, Duración: 1.0\n",
      "ID: T-57873-643625d1-3b92-4a50-890f-a079b08811ce, País: CL, Plan: P2, Duración: 1.0\n",
      "ID: T-57873-63e216de-8da6-4f12-b188-7f176de0d6dd, País: CL, Plan: P2, Duración: 1.0\n",
      "ID: T-57873-2a71f988-d215-4a0a-bb6c-e0fa88c353ef, País: CL, Plan: P2, Duración: 1.0\n",
      "ID: T-57873-0cda5c86-bed4-4e4d-88b0-38999310be68, País: CL, Plan: P2, Duración: 1.0\n",
      "ID: T-57873-00045c73-86a7-40f9-af38-900c97fac358, País: CL, Plan: P2, Duración: 1.0\n",
      "ID: T-57873-f25f479f-5585-4068-a1a4-73f2c44f62e7, País: CL, Plan: P2, Duración: 1.0\n",
      "ID: T-57873-7d1b34c6-25b7-4700-85e0-eff479038f65, País: CL, Plan: P2, Duración: 1.0\n",
      "ID: REF-57873-175f7030-a000-4c68-8565-f4a4666591c5, País: CL, Plan: P2, Duración: 1.0\n",
      "ID: T-57873-8d858175-082d-4170-b6a2-742e81bcad66, País: CL, Plan: P2, Duración: 1.0\n",
      "ID: T-57873-4352853a-9e61-4e64-baa6-e63de3560334, País: CL, Plan: P2, Duración: 1.0\n",
      "ID: T-57873-c9c31e04-2578-4444-a73b-1da046a319d9, País: CL, Plan: P2, Duración: 1.0\n",
      "ID: T-57873-a1f8cb4d-846f-4fc2-a710-ea694f7863b6, País: CL, Plan: P2, Duración: 1.0\n",
      "ID: T-57873-4957a1e3-929d-46de-b41c-2c14c425f6b5, País: CL, Plan: P2, Duración: 1.0\n",
      "ID: T-57873-a30dc5e0-770e-4ea8-abad-720a41d8910f, País: CL, Plan: P2, Duración: 1.0\n",
      "ID: T-57873-1f6ff652-28f7-4871-9629-8d7d610dc9af, País: CL, Plan: P2, Duración: 1.0\n",
      "ID: T-57873-91cba61f-06bc-4340-950b-a26bf5b87ad8, País: CL, Plan: P2, Duración: 1.0\n",
      "ID: T-57873-3a471362-bd37-4294-9d02-07dfac98dbda, País: CL, Plan: P2, Duración: 1.0\n",
      "ID: T-57873-f0e5708e-1b0b-41db-83ad-c928af598f4a, País: CL, Plan: P2, Duración: 1.0\n",
      "ID: T-57873-04d4ce02-b789-431c-8d5a-60c9ba5eea43, País: CL, Plan: P2, Duración: 1.0\n",
      "ID: T-57873-ce6ac9dc-bf21-44aa-b344-ef6edbff7e37, País: CL, Plan: P2, Duración: 1.0\n",
      "ID: T-57873-511038fc-8414-436d-9668-40b33749372f, País: CL, Plan: P2, Duración: 1.0\n",
      "ID: T-57873-59b05195-75d4-4792-b64f-2586a14cde5a, País: CL, Plan: P2, Duración: 1.0\n",
      "ID: T-57873-51690e13-05df-4ab3-9327-20efb6f86b55, País: CL, Plan: P2, Duración: 1.0\n",
      "ID: T-57873-e54a3e77-e757-41dd-b474-6d14d891699e, País: CL, Plan: P2, Duración: 1.0\n",
      "ID: T-57873-2a4dff55-ba41-4f46-a3a3-3dacdc5193aa, País: CL, Plan: P2, Duración: 1.0\n",
      "ID: T-57873-99c8041f-ce5f-4e40-8f38-4052fbd04ee1, País: CL, Plan: P2, Duración: 1.0\n",
      "ID: T-57873-4e5997f2-ba79-40e3-a2cc-13e81755cc6f, País: CL, Plan: P2, Duración: 1.0\n",
      "ID: T-57873-79f75071-8770-4151-a518-bf9f2644c40b, País: CL, Plan: P2, Duración: 1.0\n",
      "ID: T-57873-df0863be-c3a2-4409-bf73-fb8e171eb3d0, País: CL, Plan: P2, Duración: 1.0\n",
      "ID: T-57873-9eca4522-465f-4018-bf8d-eb9a11b4e58a, País: CL, Plan: P2, Duración: 1.0\n",
      "ID: T-57873-75e73fb7-ff27-46c2-a3b0-426299d7e599, País: CL, Plan: P2, Duración: 1.0\n",
      "ID: T-57873-fb8c5b76-bc5c-43a2-8d00-4af552fc42e0, País: CL, Plan: P2, Duración: 1.0\n",
      "ID: T-57873-cf2e9580-b3d1-4820-9d94-c07baca65ad3, País: CL, Plan: P2, Duración: 1.0\n",
      "Número total de coincidencias: 40\n"
     ]
    }
   ],
   "source": [
    "# Filtrar el DataFrame según los datos de filtrado\n",
    "df_filtrado = df[(df['Pais'] == pais) & (df['Plan'] == plan) & (df['Duracion'] == duracion)]\n",
    "\n",
    "# Inicializar un contador para el número de coincidencias\n",
    "num_coincidencias = 0\n",
    "\n",
    "# Iterar sobre las filas del DataFrame filtrado\n",
    "for index, row in df_filtrado.iterrows():\n",
    "    # Mostrar la información de la fila\n",
    "    print(f'ID: {row[\"Reference\"]}, País: {row[\"Pais\"]}, Plan: {row[\"Plan\"]}, Duración: {row[\"Duracion\"]}')\n",
    "    \n",
    "    # Incrementar el contador de coincidencias\n",
    "    num_coincidencias += 1\n",
    "\n",
    "# Mostrar el número total de coincidencias\n",
    "print(f'Número total de coincidencias: {num_coincidencias}')"
   ]
  },
  {
   "cell_type": "code",
   "execution_count": 247,
   "metadata": {},
   "outputs": [
    {
     "data": {
      "image/png": "[encoded data removed]",
      "text/plain": [
       "<Figure size 640x480 with 1 Axes>"
      ]
     },
     "metadata": {},
     "output_type": "display_data"
    }
   ],
   "source": [
    "# Lista para almacenar los nombres de los últimos 5 archivos\n",
    "ultimos_5_archivos = []\n",
    "\n",
    "# Filtrar el DataFrame según los datos de filtrado\n",
    "df_filtrado = df[(df['Pais'] == pais) & (df['Plan'] == plan) & (df['Duracion'] == duracion)]\n",
    "\n",
    "# Generar el nombre del archivo a partir de los valores de pais, plan y duracion\n",
    "nombre_archivo = f'{pais}{plan}_{duracion}.csv'\n",
    "\n",
    "# Guardar el resultado del filtrado en un archivo CSV\n",
    "df_filtrado.to_csv(nombre_archivo, index=False)\n",
    "\n",
    "# Agregar el nombre del archivo a la lista de últimos 5 archivos\n",
    "ultimos_5_archivos.append(nombre_archivo)\n",
    "if len(ultimos_5_archivos) > 5:\n",
    "    ultimos_5_archivos.pop(0)\n",
    "\n",
    "# Leer los últimos 5 archivos y concatenarlos en un solo DataFrame\n",
    "df_concatenado = pd.concat([pd.read_csv(archivo) for archivo in ultimos_5_archivos])\n",
    "\n",
    "# Crear un gráfico de barras que compare los resultados por país\n",
    "df_concatenado.groupby('Pais')['Plan'].count().plot(kind='bar')\n",
    "plt.show()"
   ]
  },
  {
   "attachments": {},
   "cell_type": "markdown",
   "metadata": {},
   "source": [
    "# Reporte Colombia"
   ]
  },
  {
   "cell_type": "code",
   "execution_count": 249,
   "metadata": {},
   "outputs": [
    {
     "data": {
      "text/plain": [
       "<AxesSubplot: xlabel='Pais,Plan,Duracion'>"
      ]
     },
     "execution_count": 249,
     "metadata": {},
     "output_type": "execute_result"
    },
    {
     "data": {
      "image/png": "[encoded data removed]",
      "text/plain": [
       "<Figure size 640x480 with 1 Axes>"
      ]
     },
     "metadata": {},
     "output_type": "display_data"
    }
   ],
   "source": [
    "# Crear una lista con los nombres de los archivos\n",
    "archivos = ['cop1_1.csv', 'cop1_3.csv', 'cop1_6.csv', 'cop1_12.csv', 'cop2_1.csv', 'cop2_3.csv', 'cop2_6.csv', 'cop2_12.csv']\n",
    "\n",
    "# Crear una lista vacía para almacenar los DataFrames\n",
    "dfs = []\n",
    "\n",
    "# Iterar sobre la lista de archivos\n",
    "for archivo in archivos:\n",
    "    # Leer el archivo y agregar el DataFrame resultante a la lista de DataFrames\n",
    "    df = pd.read_csv(archivo)\n",
    "    dfs.append(df)\n",
    "\n",
    "# Concatenar todos los DataFrames en la lista en un solo DataFrame\n",
    "df_concatenado = pd.concat(dfs)\n",
    "\n",
    "# Agrupar los datos por las columnas Pais, Plan y Duracion y calcular el total para cada grupo\n",
    "totales = df_concatenado.groupby(['Pais', 'Plan', 'Duracion']).size()\n",
    "\n",
    "# Realizar un gráfico de barras con los totales\n",
    "totales.plot.bar()"
   ]
  },
  {
   "cell_type": "code",
   "execution_count": 250,
   "metadata": {},
   "outputs": [
    {
     "name": "stdout",
     "output_type": "stream",
     "text": [
      "Pais Plan  Duracion  Total\n",
      "  CO   P1       1.0    240\n",
      "  CO   P1       3.0      5\n",
      "  CO   P1       6.0      1\n",
      "  CO   P1      12.0     23\n",
      "  CO   P2       1.0     38\n",
      "  CO   P2       3.0      5\n",
      "  CO   P2      12.0      2\n"
     ]
    }
   ],
   "source": [
    "# Convert the 'totales' Series into a DataFrame\n",
    "totales_df = totales.to_frame()\n",
    "\n",
    "# Reset the index of the DataFrame to move the group labels into columns\n",
    "totales_df.reset_index(inplace=True)\n",
    "\n",
    "# Rename the columns of the DataFrame\n",
    "totales_df.columns = ['Pais', 'Plan', 'Duracion', 'Total']\n",
    "\n",
    "# Display the DataFrame as a table\n",
    "print(totales_df.to_string(index=False))"
   ]
  },
  {
   "attachments": {},
   "cell_type": "markdown",
   "metadata": {},
   "source": [
    "# Reporte Peru"
   ]
  },
  {
   "cell_type": "code",
   "execution_count": 251,
   "metadata": {},
   "outputs": [
    {
     "data": {
      "text/plain": [
       "<AxesSubplot: xlabel='Pais,Plan,Duracion'>"
      ]
     },
     "execution_count": 251,
     "metadata": {},
     "output_type": "execute_result"
    },
    {
     "data": {
      "image/png": "[encoded data removed]",
      "text/plain": [
       "<Figure size 640x480 with 1 Axes>"
      ]
     },
     "metadata": {},
     "output_type": "display_data"
    }
   ],
   "source": [
    "# Crear una lista con los nombres de los archivos\n",
    "archivos = ['PEP1_1.csv', 'PEP1_3.csv', 'PEP1_6.csv', 'PEP1_12.csv', 'PEP2_1.csv', 'PEP2_3.csv', 'PEP2_6.csv', 'PEP2_12.csv']\n",
    "\n",
    "# Crear una lista vacía para almacenar los DataFrames\n",
    "dfs = []\n",
    "\n",
    "# Iterar sobre la lista de archivos\n",
    "for archivo in archivos:\n",
    "    # Leer el archivo y agregar el DataFrame resultante a la lista de DataFrames\n",
    "    df = pd.read_csv(archivo)\n",
    "    dfs.append(df)\n",
    "\n",
    "# Concatenar todos los DataFrames en la lista en un solo DataFrame\n",
    "df_concatenado = pd.concat(dfs)\n",
    "\n",
    "# Agrupar los datos por las columnas Pais, Plan y Duracion y calcular el total para cada grupo\n",
    "totales = df_concatenado.groupby(['Pais', 'Plan', 'Duracion']).size()\n",
    "\n",
    "# Realizar un gráfico de barras con los totales\n",
    "totales.plot.bar()"
   ]
  },
  {
   "cell_type": "code",
   "execution_count": 252,
   "metadata": {},
   "outputs": [
    {
     "name": "stdout",
     "output_type": "stream",
     "text": [
      "Pais Plan  Duracion  Total\n",
      "  PE   P1       3.0     29\n",
      "  PE   P1      12.0     23\n",
      "  PE   P2       3.0      4\n",
      "  PE   P2      12.0     13\n"
     ]
    }
   ],
   "source": [
    "# Convert the 'totales' Series into a DataFrame\n",
    "totales_df = totales.to_frame()\n",
    "\n",
    "# Reset the index of the DataFrame to move the group labels into columns\n",
    "totales_df.reset_index(inplace=True)\n",
    "\n",
    "# Rename the columns of the DataFrame\n",
    "totales_df.columns = ['Pais', 'Plan', 'Duracion', 'Total']\n",
    "\n",
    "# Display the DataFrame as a table\n",
    "print(totales_df.to_string(index=False))"
   ]
  },
  {
   "attachments": {},
   "cell_type": "markdown",
   "metadata": {},
   "source": [
    "# Reporte Brasil"
   ]
  },
  {
   "cell_type": "code",
   "execution_count": 253,
   "metadata": {},
   "outputs": [
    {
     "data": {
      "text/plain": [
       "<AxesSubplot: xlabel='Pais,Plan,Duracion'>"
      ]
     },
     "execution_count": 253,
     "metadata": {},
     "output_type": "execute_result"
    },
    {
     "data": {
      "image/png": "[encoded data removed]",
      "text/plain": [
       "<Figure size 640x480 with 1 Axes>"
      ]
     },
     "metadata": {},
     "output_type": "display_data"
    }
   ],
   "source": [
    "# Crear una lista con los nombres de los archivos\n",
    "archivos = ['BRP1_1.csv', 'BRP1_3.csv', 'BRP1_6.csv', 'BRP1_12.csv', 'BRP2_1.csv', 'BRP2_3.csv', 'BRP2_6.csv', 'BRP2_12.csv']\n",
    "\n",
    "# Crear una lista vacía para almacenar los DataFrames\n",
    "dfs = []\n",
    "\n",
    "# Iterar sobre la lista de archivos\n",
    "for archivo in archivos:\n",
    "    # Leer el archivo y agregar el DataFrame resultante a la lista de DataFrames\n",
    "    df = pd.read_csv(archivo)\n",
    "    dfs.append(df)\n",
    "\n",
    "# Concatenar todos los DataFrames en la lista en un solo DataFrame\n",
    "df_concatenado = pd.concat(dfs)\n",
    "\n",
    "# Agrupar los datos por las columnas Pais, Plan y Duracion y calcular el total para cada grupo\n",
    "totales = df_concatenado.groupby(['Pais', 'Plan', 'Duracion']).size()\n",
    "\n",
    "# Realizar un gráfico de barras con los totales\n",
    "totales.plot.bar()"
   ]
  },
  {
   "cell_type": "code",
   "execution_count": 254,
   "metadata": {},
   "outputs": [
    {
     "name": "stdout",
     "output_type": "stream",
     "text": [
      "Pais Plan  Duracion  Total\n",
      "  BR   P1       1.0   1093\n",
      "  BR   P1       6.0     28\n",
      "  BR   P1      12.0    293\n",
      "  BR   P2       1.0    429\n",
      "  BR   P2       3.0     33\n",
      "  BR   P2       6.0      8\n",
      "  BR   P2      12.0    139\n"
     ]
    }
   ],
   "source": [
    "# Convert the 'totales' Series into a DataFrame\n",
    "totales_df = totales.to_frame()\n",
    "\n",
    "# Reset the index of the DataFrame to move the group labels into columns\n",
    "totales_df.reset_index(inplace=True)\n",
    "\n",
    "# Rename the columns of the DataFrame\n",
    "totales_df.columns = ['Pais', 'Plan', 'Duracion', 'Total']\n",
    "\n",
    "# Display the DataFrame as a table\n",
    "print(totales_df.to_string(index=False))"
   ]
  },
  {
   "attachments": {},
   "cell_type": "markdown",
   "metadata": {},
   "source": [
    "# Reporte Mexico"
   ]
  },
  {
   "cell_type": "code",
   "execution_count": 255,
   "metadata": {},
   "outputs": [
    {
     "data": {
      "text/plain": [
       "<AxesSubplot: xlabel='Pais,Plan,Duracion'>"
      ]
     },
     "execution_count": 255,
     "metadata": {},
     "output_type": "execute_result"
    },
    {
     "data": {
      "image/png": "[encoded data removed]",
      "text/plain": [
       "<Figure size 640x480 with 1 Axes>"
      ]
     },
     "metadata": {},
     "output_type": "display_data"
    }
   ],
   "source": [
    "# Crear una lista con los nombres de los archivos\n",
    "archivos = ['MXP1_1.csv', 'MXP1_3.csv', 'MXP1_6.csv', 'MXP1_12.csv', 'MXP2_1.csv', 'MXP2_3.csv', 'MXP2_6.csv', 'MXP2_12.csv']\n",
    "\n",
    "# Crear una lista vacía para almacenar los DataFrames\n",
    "dfs = []\n",
    "\n",
    "# Iterar sobre la lista de archivos\n",
    "for archivo in archivos:\n",
    "    # Leer el archivo y agregar el DataFrame resultante a la lista de DataFrames\n",
    "    df = pd.read_csv(archivo)\n",
    "    dfs.append(df)\n",
    "\n",
    "# Concatenar todos los DataFrames en la lista en un solo DataFrame\n",
    "df_concatenado = pd.concat(dfs)\n",
    "\n",
    "# Agrupar los datos por las columnas Pais, Plan y Duracion y calcular el total para cada grupo\n",
    "totales = df_concatenado.groupby(['Pais', 'Plan', 'Duracion']).size()\n",
    "\n",
    "# Realizar un gráfico de barras con los totales\n",
    "totales.plot.bar()"
   ]
  },
  {
   "cell_type": "code",
   "execution_count": 256,
   "metadata": {},
   "outputs": [
    {
     "name": "stdout",
     "output_type": "stream",
     "text": [
      "Pais Plan  Duracion  Total\n",
      "  MX   P1       1.0    282\n"
     ]
    }
   ],
   "source": [
    "# Convert the 'totales' Series into a DataFrame\n",
    "totales_df = totales.to_frame()\n",
    "\n",
    "# Reset the index of the DataFrame to move the group labels into columns\n",
    "totales_df.reset_index(inplace=True)\n",
    "\n",
    "# Rename the columns of the DataFrame\n",
    "totales_df.columns = ['Pais', 'Plan', 'Duracion', 'Total']\n",
    "\n",
    "# Display the DataFrame as a table\n",
    "print(totales_df.to_string(index=False))"
   ]
  },
  {
   "attachments": {},
   "cell_type": "markdown",
   "metadata": {},
   "source": [
    "# Reporte PA"
   ]
  },
  {
   "cell_type": "code",
   "execution_count": 257,
   "metadata": {},
   "outputs": [
    {
     "data": {
      "text/plain": [
       "<AxesSubplot: xlabel='Pais,Plan,Duracion'>"
      ]
     },
     "execution_count": 257,
     "metadata": {},
     "output_type": "execute_result"
    },
    {
     "data": {
      "image/png": "[encoded data removed]",
      "text/plain": [
       "<Figure size 640x480 with 1 Axes>"
      ]
     },
     "metadata": {},
     "output_type": "display_data"
    }
   ],
   "source": [
    "# Crear una lista con los nombres de los archivos\n",
    "archivos = ['PAP1_1.csv', 'PAP1_3.csv', 'PAP1_6.csv', 'PAP1_12.csv', 'PAP2_1.csv', 'PAP2_3.csv', 'PAP2_6.csv', 'PAP2_12.csv']\n",
    "\n",
    "# Crear una lista vacía para almacenar los DataFrames\n",
    "dfs = []\n",
    "\n",
    "# Iterar sobre la lista de archivos\n",
    "for archivo in archivos:\n",
    "    # Leer el archivo y agregar el DataFrame resultante a la lista de DataFrames\n",
    "    df = pd.read_csv(archivo)\n",
    "    dfs.append(df)\n",
    "\n",
    "# Concatenar todos los DataFrames en la lista en un solo DataFrame\n",
    "df_concatenado = pd.concat(dfs)\n",
    "\n",
    "# Agrupar los datos por las columnas Pais, Plan y Duracion y calcular el total para cada grupo\n",
    "totales = df_concatenado.groupby(['Pais', 'Plan', 'Duracion']).size()\n",
    "\n",
    "# Realizar un gráfico de barras con los totales\n",
    "totales.plot.bar()"
   ]
  },
  {
   "cell_type": "code",
   "execution_count": 258,
   "metadata": {},
   "outputs": [
    {
     "name": "stdout",
     "output_type": "stream",
     "text": [
      "Pais Plan  Duracion  Total\n",
      "  PA   P1       1.0    314\n",
      "  PA   P1       3.0     39\n",
      "  PA   P1       6.0     10\n",
      "  PA   P1      12.0     60\n",
      "  PA   P2       1.0    114\n",
      "  PA   P2       3.0     16\n",
      "  PA   P2       6.0     12\n",
      "  PA   P2      12.0     84\n"
     ]
    }
   ],
   "source": [
    "# Convert the 'totales' Series into a DataFrame\n",
    "totales_df = totales.to_frame()\n",
    "\n",
    "# Reset the index of the DataFrame to move the group labels into columns\n",
    "totales_df.reset_index(inplace=True)\n",
    "\n",
    "# Rename the columns of the DataFrame\n",
    "totales_df.columns = ['Pais', 'Plan', 'Duracion', 'Total']\n",
    "\n",
    "# Display the DataFrame as a table\n",
    "print(totales_df.to_string(index=False))"
   ]
  },
  {
   "attachments": {},
   "cell_type": "markdown",
   "metadata": {},
   "source": [
    "# Reporte CL"
   ]
  },
  {
   "cell_type": "code",
   "execution_count": 259,
   "metadata": {},
   "outputs": [
    {
     "data": {
      "text/plain": [
       "<AxesSubplot: xlabel='Pais,Plan,Duracion'>"
      ]
     },
     "execution_count": 259,
     "metadata": {},
     "output_type": "execute_result"
    },
    {
     "data": {
      "image/png": "[encoded data removed]",
      "text/plain": [
       "<Figure size 640x480 with 1 Axes>"
      ]
     },
     "metadata": {},
     "output_type": "display_data"
    }
   ],
   "source": [
    "# Crear una lista con los nombres de los archivos\n",
    "archivos = ['CLP1_1.csv', 'CLP1_3.csv', 'CLP1_6.csv', 'CLP1_12.csv', 'CLP2_1.csv', 'CLP2_3.csv', 'CLP2_6.csv', 'CLP2_12.csv']\n",
    "\n",
    "# Crear una lista vacía para almacenar los DataFrames\n",
    "dfs = []\n",
    "\n",
    "# Iterar sobre la lista de archivos\n",
    "for archivo in archivos:\n",
    "    # Leer el archivo y agregar el DataFrame resultante a la lista de DataFrames\n",
    "    df = pd.read_csv(archivo)\n",
    "    dfs.append(df)\n",
    "\n",
    "# Concatenar todos los DataFrames en la lista en un solo DataFrame\n",
    "df_concatenado = pd.concat(dfs)\n",
    "\n",
    "# Agrupar los datos por las columnas Pais, Plan y Duracion y calcular el total para cada grupo\n",
    "totales = df_concatenado.groupby(['Pais', 'Plan', 'Duracion']).size()\n",
    "\n",
    "# Realizar un gráfico de barras con los totales\n",
    "totales.plot.bar()"
   ]
  },
  {
   "cell_type": "code",
   "execution_count": 260,
   "metadata": {},
   "outputs": [
    {
     "name": "stdout",
     "output_type": "stream",
     "text": [
      "Pais Plan  Duracion  Total\n",
      "  CL   P1       1.0    114\n",
      "  CL   P1       3.0      7\n",
      "  CL   P1       6.0      7\n",
      "  CL   P1      12.0      6\n",
      "  CL   P2       1.0     40\n",
      "  CL   P2       6.0      1\n",
      "  CL   P2      12.0      4\n"
     ]
    }
   ],
   "source": [
    "# Convert the 'totales' Series into a DataFrame\n",
    "totales_df = totales.to_frame()\n",
    "\n",
    "# Reset the index of the DataFrame to move the group labels into columns\n",
    "totales_df.reset_index(inplace=True)\n",
    "\n",
    "# Rename the columns of the DataFrame\n",
    "totales_df.columns = ['Pais', 'Plan', 'Duracion', 'Total']\n",
    "\n",
    "# Display the DataFrame as a table\n",
    "print(totales_df.to_string(index=False))"
   ]
  }
 ],
 "metadata": {
  "kernelspec": {
   "display_name": "Python 3",
   "language": "python",
   "name": "python3"
  },
  "language_info": {
   "codemirror_mode": {
    "name": "ipython",
    "version": 3
   },
   "file_extension": ".py",
   "mimetype": "text/x-python",
   "name": "python",
   "nbconvert_exporter": "python",
   "pygments_lexer": "ipython3",
   "version": "3.10.9"
  },
  "orig_nbformat": 4
 },
 "nbformat": 4,
 "nbformat_minor": 2
}
